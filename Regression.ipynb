{
  "nbformat": 4,
  "nbformat_minor": 0,
  "metadata": {
    "colab": {
      "name": "Regression.ipynb",
      "provenance": [],
      "collapsed_sections": [
        "8qAdbRzmnS4W",
        "_OFLtS-m5J9z",
        "fUcWE0ty5Q0U",
        "vFq0UkEm5Vtk"
      ],
      "toc_visible": true,
      "include_colab_link": true
    },
    "kernelspec": {
      "display_name": "Python 3",
      "language": "python",
      "name": "python3"
    },
    "language_info": {
      "codemirror_mode": {
        "name": "ipython",
        "version": 3
      },
      "file_extension": ".py",
      "mimetype": "text/x-python",
      "name": "python",
      "nbconvert_exporter": "python",
      "pygments_lexer": "ipython3",
      "version": "3.5.2"
    }
  },
  "cells": [
    {
      "cell_type": "markdown",
      "metadata": {
        "id": "view-in-github",
        "colab_type": "text"
      },
      "source": [
        "<a href=\"https://colab.research.google.com/github/Lyrae233/Regression/blob/main/Regression.ipynb\" target=\"_parent\"><img src=\"https://colab.research.google.com/assets/colab-badge.svg\" alt=\"Open In Colab\"/></a>"
      ]
    },
    {
      "cell_type": "markdown",
      "metadata": {
        "id": "UqT873FcvjxW"
      },
      "source": [
        "Trying to Understand Machine Learning for Regression\n"
      ]
    },
    {
      "cell_type": "markdown",
      "metadata": {
        "id": "8qAdbRzmnS4W"
      },
      "source": [
        "# Setup Code"
      ]
    },
    {
      "cell_type": "markdown",
      "metadata": {
        "id": "rUA7GaO0nHLu"
      },
      "source": [
        "## Imports\n",
        "Do all the needed imports"
      ]
    },
    {
      "cell_type": "code",
      "metadata": {
        "id": "_yS243aihQrF"
      },
      "source": [
        "from datetime import datetime\n",
        "import math\n",
        "from random import random\n",
        "\n",
        "import matplotlib.pyplot as plt\n",
        "import numpy as np\n",
        "from keras import layers, models\n",
        "from tensorflow.keras.utils import to_categorical"
      ],
      "execution_count": null,
      "outputs": []
    },
    {
      "cell_type": "markdown",
      "metadata": {
        "id": "_ItpFEfN14v4"
      },
      "source": [
        "## Define Global Variables"
      ]
    },
    {
      "cell_type": "code",
      "metadata": {
        "id": "vyCjrkuf1-1h"
      },
      "source": [
        "AP = {}                      # Make \"Attempt Parameters\" a global variable \n",
        "trainX = np.zeros((60000,2)) # A list of lots of x = [x0,...,x_{n-1}] values chosen randomly\n",
        "trainY = np.zeros(60000)     # The supervisors answers y=f(x)\n",
        "testX  = np.zeros((10000,2)) # Same but for testing\n",
        "testY  = np.zeros(10000)     #\n",
        "network = 0                  # The learned neural network\n",
        "custom_func = None           # Used to define a custom function for mapping an input x to a real value\n",
        "meanX = meanY = 0\n",
        "stdX = stdY = 1"
      ],
      "execution_count": null,
      "outputs": []
    },
    {
      "cell_type": "markdown",
      "metadata": {
        "id": "JYmhrFeVkv7f"
      },
      "source": [
        "## setAP - DEFAULT ATTEMPT PARAMETERS"
      ]
    },
    {
      "cell_type": "code",
      "metadata": {
        "colab": {
          "base_uri": "https://localhost:8080/"
        },
        "id": "1VxozTjY5NKa",
        "outputId": "d58016dd-2cae-40a6-d32f-1a19483b1969"
      },
      "source": [
        "##########################################################\n",
        "\"\"\"    \n",
        "  setAP(APValues)                                        \n",
        "    AP are \"Attempt Parameters\" (a global variable)      \n",
        "    APValues specifies a list of parameters to set       \n",
        "     eg setAP([\"function\",\"exp\"],[\"degree\",3])           \n",
        "          sets function = \"exp\" and degree = 3           \n",
        "          remaining parameters are set to their defaults \n",
        "\"\"\"  \n",
        "##########################################################\n",
        "\n",
        "def setAP(*APV):\n",
        "  global AP \n",
        "  #     parameter name : default value\n",
        "  AP = {\"nDimensions\":1,      # x = [x0,..,xn]\n",
        "        \"maxX\":100,           # xi in [0..maxX]   \n",
        "        \"categorize\":[],      # [] means the output is one real number\n",
        "                              # [10,20,30] means 4 categories y=\n",
        "                              # 0 if {yy<10}, 1 if {10<=yy<20}, ..., 3 if {30<=yy} \n",
        "        \"nItemsTrain\":384000, # num of training data\n",
        "        \"nItemsTest\": 10000,  # num of testing data\n",
        "        \"function\":\"poly\",    # vs \"exp\"\n",
        "        \"nGraphPoints\":100,   # number points in graph\n",
        "        \"degree\":2,           # x0^degree vs degree^x0\n",
        "        \"graph_r\":0,          # graph wrt xr\n",
        "        \"graph_x\":None,       # graph with other values set as x\n",
        "        \"logscale\":False,     # if True, graph log(y)\n",
        "        \"noise\":0,            # add noise to x and y\n",
        "        \"nLayers\":2,          # num of layers in the neural network\n",
        "        \"nHidden\":512,        # num of nodes in each hidden layer\n",
        "        \"activation\":\"relu\",  # how each neuron is activated\n",
        "        \"epochs\":5,           # number of passes through data\n",
        "        \"batch\":128,          # num items per hill climbing step\n",
        "        \"normalize\":True ,    # If true normalization is done otherwise not done\n",
        "        \"optimizer\":\"rmsprop\",# Optimizer to be used\n",
        "        \"graph_at_end\":False ,# Controls if all graphs only show at end of cell \n",
        "                              # after cell completes execution otherwise they \n",
        "                              # are shown once they are ready\n",
        "        \"train_verbosity\":1,  # 0 - Silent, 1 - Progress bar (see cell below)                              \n",
        "      }  \n",
        "\n",
        "  # Override values with values from parameter\n",
        "  for APv in APV:    \n",
        "    if AP.get(APv[0]) is None:\n",
        "      raise Exception(f'Invalid Key for AP found: {APv[0]} in {APV}')\n",
        "    AP[APv[0]] = APv[1]\n",
        "\n",
        "  if AP['graph_x'] is None:\n",
        "    AP['graph_x'] = [AP['maxX']/2] * AP['nDimensions']\n",
        "\n",
        "setAP()\n",
        "print(AP)\n",
        "setAP([\"function\",\"exp\"],[\"degree\",3])\n",
        "print(AP)\n",
        "print(AP[\"nDimensions\"])\n",
        "print(AP[\"function\"])\n",
        "if AP[\"function\"]==\"exp\":\n",
        "  print(\"excellent\")"
      ],
      "execution_count": null,
      "outputs": [
        {
          "output_type": "stream",
          "name": "stdout",
          "text": [
            "{'nDimensions': 1, 'maxX': 100, 'categorize': [], 'nItemsTrain': 384000, 'nItemsTest': 10000, 'function': 'poly', 'nGraphPoints': 100, 'degree': 2, 'graph_r': 0, 'graph_x': [50.0], 'logscale': False, 'noise': 0, 'nLayers': 2, 'nHidden': 512, 'activation': 'relu', 'epochs': 5, 'batch': 128, 'normalize': True, 'optimizer': 'rmsprop', 'graph_at_end': False, 'train_verbosity': 1}\n",
            "{'nDimensions': 1, 'maxX': 100, 'categorize': [], 'nItemsTrain': 384000, 'nItemsTest': 10000, 'function': 'exp', 'nGraphPoints': 100, 'degree': 3, 'graph_r': 0, 'graph_x': [50.0], 'logscale': False, 'noise': 0, 'nLayers': 2, 'nHidden': 512, 'activation': 'relu', 'epochs': 5, 'batch': 128, 'normalize': True, 'optimizer': 'rmsprop', 'graph_at_end': False, 'train_verbosity': 1}\n",
            "1\n",
            "exp\n",
            "excellent\n"
          ]
        }
      ]
    },
    {
      "cell_type": "markdown",
      "metadata": {
        "id": "16SzJ_2i4hUi"
      },
      "source": [
        "### Additional Parameter Information\n",
        "For more information on verbosity see [keras documentation](https://keras.io/api/models/model_training_apis/)\n",
        "\n"
      ]
    },
    {
      "cell_type": "markdown",
      "metadata": {
        "id": "8r0Oj5VKv4LZ"
      },
      "source": [
        "## Supporting Math Functions"
      ]
    },
    {
      "cell_type": "markdown",
      "metadata": {
        "id": "_OFLtS-m5J9z"
      },
      "source": [
        "### argmax"
      ]
    },
    {
      "cell_type": "code",
      "metadata": {
        "id": "OBe04YOAm9rl"
      },
      "source": [
        "def argmax(iterable):\n",
        "  \"\"\"\n",
        "  Returns the index of the maximum value in the list\n",
        "  \"\"\"\n",
        "  return max(enumerate(iterable), key=lambda x: x[1])[0]"
      ],
      "execution_count": null,
      "outputs": []
    },
    {
      "cell_type": "markdown",
      "metadata": {
        "id": "fUcWE0ty5Q0U"
      },
      "source": [
        "### randx"
      ]
    },
    {
      "cell_type": "code",
      "metadata": {
        "id": "KqaN5DyM1v5B"
      },
      "source": [
        "def randx():\n",
        "  \"\"\"\n",
        "  x = randx() is a random x = [x1,..,xn]\n",
        "  \"\"\"\n",
        "  x = np.zeros(AP[\"nDimensions\"])\n",
        "  for j in range(AP[\"nDimensions\"]):\n",
        "    x[j] = random()*AP[\"maxX\"]\n",
        "  return x"
      ],
      "execution_count": null,
      "outputs": []
    },
    {
      "cell_type": "markdown",
      "metadata": {
        "id": "vFq0UkEm5Vtk"
      },
      "source": [
        "### randx"
      ]
    },
    {
      "cell_type": "code",
      "metadata": {
        "id": "Vb4i-eMD5XqS"
      },
      "source": [
        "def randCategories(r):\n",
        "  \"\"\"\n",
        "  randCategories(r):\n",
        "    Generates a random [10,20,30] giving r=4 categories\n",
        "    partitioned using r-1 values of ff(x) for random x\n",
        "  \"\"\"\n",
        "  cat = np.zeros(r-1)\n",
        "  for i in range(r-1):\n",
        "    cat[i] = ff(randx())\n",
        "  cat.sort()\n",
        "  return cat"
      ],
      "execution_count": null,
      "outputs": []
    },
    {
      "cell_type": "markdown",
      "metadata": {
        "id": "9ZLR09yav2aw"
      },
      "source": [
        "## Function Definitions"
      ]
    },
    {
      "cell_type": "markdown",
      "metadata": {
        "id": "g2nQ1Chns3_F"
      },
      "source": [
        "### Timer Class"
      ]
    },
    {
      "cell_type": "code",
      "metadata": {
        "id": "W2-I_CcYtKTA"
      },
      "source": [
        "##########################################################\n",
        "\"\"\"    \n",
        "  sStopWatch \n",
        "\"\"\"  \n",
        "##########################################################\n",
        "\n",
        "class StopWatch:\n",
        "    def __init__(self, name):\n",
        "        self.start_time = datetime.now()\n",
        "        self.name = name\n",
        "        self.end_time = None        \n",
        "        self.run_msg = \"Still Running\"\n",
        "        print(f\"{self.name} stop watch start time: {self.start_time}\")\n",
        "\n",
        "    def end(self):\n",
        "        self.end_time = datetime.now()\n",
        "        self.run_msg = f\"{self.name} stop watch runtime was {self.runtime()}\"        \n",
        "        print(self.run_msg)\n",
        "\n",
        "    def runtime(self):\n",
        "        return self.end_time - self.start_time\n",
        "\n",
        "    def as_float(self):\n",
        "        return self.runtime().total_seconds()"
      ],
      "execution_count": null,
      "outputs": []
    },
    {
      "cell_type": "markdown",
      "metadata": {
        "id": "rVMfwRjH86gB"
      },
      "source": [
        "### ff"
      ]
    },
    {
      "cell_type": "code",
      "metadata": {
        "id": "NH2ouNaAv_PR"
      },
      "source": [
        "def ff(x):\n",
        "###################################################################\n",
        "  \"\"\"                                                             \n",
        "  If custom_func is defined then returns its value otherwise, \n",
        "\n",
        "  This function is the precategory function y=f(x) to be learned\n",
        "  AP[\"function\"] specifies which function to use\n",
        "  AP[\"nDimensions\"] = 2 ie x = [x1,..,xn]\n",
        "  AP[\"degree\"] = 2 ie degree of poly or base of exp\n",
        "  \"\"\"\n",
        "###################################################################  \n",
        "\n",
        "  if AP[\"function\"]==\"poly\":\n",
        "    y = 1\n",
        "    for i in range(AP[\"nDimensions\"]):\n",
        "      y *= x[i]**AP[\"degree\"] \n",
        "    return y\n",
        "\n",
        "  if AP[\"function\"]==\"exp\":\n",
        "    y = 1\n",
        "    for i in range(AP[\"nDimensions\"]):\n",
        "      y *= AP[\"degree\"]**x[i] \n",
        "    return y\n",
        "\n",
        "  if custom_func is not None:\n",
        "    return custom_func(x)\n",
        "\n",
        "  raise Exception(f'ff doesn\\'t know {AP[\"function\"]}')"
      ],
      "execution_count": null,
      "outputs": []
    },
    {
      "cell_type": "markdown",
      "metadata": {
        "id": "T1ZwX0UUBh5k"
      },
      "source": [
        "### categoriesY"
      ]
    },
    {
      "cell_type": "code",
      "metadata": {
        "colab": {
          "base_uri": "https://localhost:8080/"
        },
        "id": "M4JfVApzwMNN",
        "outputId": "5ac1fa14-bb46-49cd-8a09-94d4e8bdc166"
      },
      "source": [
        "def categoriesY(yy):\n",
        "###################################################################\n",
        "  \"\"\"\n",
        "  Categorize:\n",
        "    [] means the output is one real number\n",
        "    f(x) is the function y=f(x) that is to be learned\n",
        "    [10,20,30] means 4 categories y=\n",
        "      0 if {yy<10}, 1 if {10<=yy<20}, ..., 3 if {30<=yy}\n",
        "\n",
        "  y = categoriesY(yy)                                     \n",
        "  \"\"\"\n",
        "###################################################################\n",
        "\n",
        "  y = 0\n",
        "  for c in AP[\"categorize\"]:\n",
        "    if yy>=c: \n",
        "      y += 1\n",
        "    else:\n",
        "      break\n",
        "  return y\n",
        "\n",
        "setAP([\"categorize\",[10,20,30]])\n",
        "print(\"Categories:  9->\",categoriesY( 9),\n",
        "                \", 10->\",categoriesY(10),\n",
        "                \", 19->\",categoriesY(19),\n",
        "                \", 20->\",categoriesY(20),\n",
        "                \", 29->\",categoriesY(29),\n",
        "                \", 30->\",categoriesY(30),\n",
        "                \", 31->\",categoriesY(31))\n",
        "                "
      ],
      "execution_count": null,
      "outputs": [
        {
          "output_type": "stream",
          "name": "stdout",
          "text": [
            "Categories:  9-> 0 , 10-> 1 , 19-> 1 , 20-> 2 , 29-> 2 , 30-> 3 , 31-> 3\n"
          ]
        }
      ]
    },
    {
      "cell_type": "markdown",
      "metadata": {
        "id": "nBn6wbi1BsKW"
      },
      "source": [
        "### f"
      ]
    },
    {
      "cell_type": "code",
      "metadata": {
        "id": "uxiYC6uEzrRG"
      },
      "source": [
        "def f(x):\n",
        "  \"\"\"\n",
        "  f(x) is the postcategory function y=f(x) to be learned\n",
        "  \"\"\"\n",
        "  if not AP[\"categorize\"]:\n",
        "    return ff(x)\n",
        "  else:\n",
        "    return categoriesY(ff(x))"
      ],
      "execution_count": null,
      "outputs": []
    },
    {
      "cell_type": "markdown",
      "metadata": {
        "id": "MKHUG6syB_oV"
      },
      "source": [
        "### predictY"
      ]
    },
    {
      "cell_type": "code",
      "metadata": {
        "colab": {
          "base_uri": "https://localhost:8080/"
        },
        "id": "u1mBwKgdB8JY",
        "outputId": "73546453-1ee4-4a1b-dd79-99e7230b5684"
      },
      "source": [
        "def predictY(X):\n",
        "###################################################################\n",
        "  \"\"\"\n",
        "  YL = predictY(X)\n",
        "  X  = A list of all x=[x0,x1,...,xn] that we want to evaluate\n",
        "  YL = The list of Learned y values computed by network.\n",
        "\n",
        "  X is\n",
        "  Number of ___ specified by:\n",
        "    AP[\"nLayers\"] = 2 is num of layers in the neural network\n",
        "    AP[\"nHidden\"] = 512 is num of passes through data\n",
        "    AP[\"activation\"] = 'relu' is how each neuron is activated\n",
        "    AP[\"epochs\"]  = 5   is num of passes through data\n",
        "    AP[\"batch\"]   = 128 is num items per hill climbing step\n",
        "  \"\"\"\n",
        " ###################################################################\n",
        "\n",
        "  X = normalizeX(X)\n",
        "  YL = np.zeros(AP[\"nGraphPoints\"])\n",
        "  if network != 0:\n",
        "    YCat = network.predict(X)\n",
        "  else:            \n",
        "    YCat = np.zeros((AP[\"nGraphPoints\"],1))\n",
        "  if len(YCat[0])==1:  # the y answer from the network has only one value\n",
        "    for i in range(len(YCat)):\n",
        "      YL[i] = YCat[i][0]\n",
        "    YL = denormalizeY(YL)\n",
        "  else:   # This is categorical \n",
        "          #   ie YCat[0] = [0.01, 0.01, 0.9 ,0.01,..] \n",
        "          # means YL[0] = 2   \n",
        "    for i in range(len(YCat)):\n",
        "      YL[i] = argmax(YCat[i])\n",
        "  return YL\n",
        "\n",
        "\n",
        "setAP()  \n",
        "print(ff([2,3]))\n",
        "setAP([\"function\",\"exp\"])\n",
        "print(ff([2,3]))"
      ],
      "execution_count": null,
      "outputs": [
        {
          "output_type": "stream",
          "name": "stdout",
          "text": [
            "4\n",
            "4\n"
          ]
        }
      ]
    },
    {
      "cell_type": "markdown",
      "metadata": {
        "id": "ngiYYsR1CrJP"
      },
      "source": [
        "### graph"
      ]
    },
    {
      "cell_type": "code",
      "metadata": {
        "id": "xYQ--mhkCtHm"
      },
      "source": [
        "def graph(suffix = '',learned=True):\n",
        " ###################################################################\n",
        "  \"\"\"\n",
        "  Graphs given and learned function\n",
        "    AP[\"graph_r\"] = r in range(nDimensions)\n",
        "    is such that x_r is horizontal axis of graph\n",
        "    with 100 values in range(maxX)\n",
        "    AP[\"graph_x\"] = x = [x0,x1,...,xn]\n",
        "    sets the values of the other variables\n",
        "    network if one has been learned yet\n",
        "  \"\"\"\n",
        " ###################################################################\n",
        "\n",
        "  r = AP[\"graph_r\"]\n",
        "  x = AP[\"graph_x\"]\n",
        "  X  = np.zeros((AP[\"nGraphPoints\"],AP[\"nDimensions\"]))  # A list of all x=[x0,x1,...,xn] that we want to evaluate\n",
        "  Xr = np.zeros(AP[\"nGraphPoints\"]) # A list of all values of xr that we are plotting. This horizontal axes. \n",
        "  Yf = np.zeros(AP[\"nGraphPoints\"]) # A list of the correct y = f(x) values. This vertical axes.\n",
        "  YL = np.zeros(AP[\"nGraphPoints\"]) # A list of Learned y values. This second vertical axes.\n",
        "  for i in range(AP[\"nGraphPoints\"]):\n",
        "    X[i] = x\n",
        "    Xr[i] = (i/AP[\"nGraphPoints\"]) * AP[\"maxX\"]        \n",
        "    X[i][r] = Xr[i]\n",
        "    Yf[i] = f(X[i])\n",
        "  YL = predictY(X)  \n",
        "  if AP[\"logscale\"]:\n",
        "    takeLog(Yf)\n",
        "    takeLog(YL)\n",
        "\n",
        "  plt.figure(figsize=(6,6))    \n",
        "  if learned: plt.plot(Xr,YL, label='Learned Y', )  \n",
        "  plt.plot(Xr,Yf, label='Ground Y')\n",
        "  plt.plot([0],[0]) # Ensure graph includes origin\n",
        "  makeTitles(r, x, suffix)\n",
        "  if not AP['graph_at_end']:\n",
        "    plt.show()\n",
        "    plt.close()"
      ],
      "execution_count": null,
      "outputs": []
    },
    {
      "cell_type": "markdown",
      "metadata": {
        "id": "OwusEX52EPQ0"
      },
      "source": [
        "### makeTitles"
      ]
    },
    {
      "cell_type": "code",
      "metadata": {
        "id": "-tHzc8XRD-Zx"
      },
      "source": [
        "def makeTitles(r, x, suffix):\n",
        "  ###################################################################\n",
        "  \"\"\"\n",
        "  Makes titles/labels for Graphs\n",
        "  \"\"\"\n",
        "  ###################################################################\n",
        "\n",
        "  title = \"y=f(x\" + str(r) + \") \" + AP[\"function\"]\n",
        "  if AP[\"logscale\"]: title += \" logscale\"\n",
        "  if AP[\"categorize\"]: title += \" categories\"\n",
        "  title += suffix\n",
        "  plt.title(title, fontsize=20)\n",
        "  plt.legend()\n",
        "  plt.xlabel(\"x\"+str(r)+\" with \"+ str(x), fontsize=15)\n",
        "  plt.ylabel(\"y\", fontsize=15)"
      ],
      "execution_count": null,
      "outputs": []
    },
    {
      "cell_type": "markdown",
      "metadata": {
        "id": "jt71BHK7ER8N"
      },
      "source": [
        "### takeLog"
      ]
    },
    {
      "cell_type": "code",
      "metadata": {
        "id": "mzs0934TEUEa"
      },
      "source": [
        "def takeLog(Y):\n",
        "  for i in range(len(Y)):\n",
        "    Y[i] = math.log10( Y[i] )"
      ],
      "execution_count": null,
      "outputs": []
    },
    {
      "cell_type": "markdown",
      "metadata": {
        "id": "hLgX7f5wJB-U"
      },
      "source": [
        "### buildDataSet"
      ]
    },
    {
      "cell_type": "code",
      "metadata": {
        "id": "jLpWTriqJAi5"
      },
      "source": [
        "def buildDataSet(nItems):\n",
        "###################################################################\n",
        "  \"\"\"\n",
        "  x is random with shape (nItemsTrain,nDimensions)\n",
        "  y is computed using y=f(x)\n",
        "\n",
        "  Number of ___ specified by:\n",
        "    AP[\"nItemsTrain\"] = 60000\n",
        "    AP[\"nItemsTest\"]  = 10000\n",
        "    AP[\"nDimensions\"] = 2   ie x = [x1,..,xn]\n",
        "    AP[\"maxX\"]        = 100 ie xi = random in [0..maxX]\n",
        "  \"\"\"\n",
        "###################################################################\n",
        "\n",
        "  X = np.zeros((nItems,AP[\"nDimensions\"]))\n",
        "  Y = np.zeros(nItems)\n",
        "  for i in range(nItems):\n",
        "    for j in range(AP[\"nDimensions\"]):\n",
        "      X[i][j] = random()*AP[\"maxX\"]\n",
        "    Y[i] = f(X[i])\n",
        "  return X,Y"
      ],
      "execution_count": null,
      "outputs": []
    },
    {
      "cell_type": "markdown",
      "metadata": {
        "id": "8EmDIGQtJHBi"
      },
      "source": [
        "### buildDataAll"
      ]
    },
    {
      "cell_type": "code",
      "metadata": {
        "id": "QDaHAXIHJEWm"
      },
      "source": [
        "def buildDataAll():\n",
        "###################################################################\n",
        "  \"\"\"  \n",
        "  Results:\n",
        "    Stored in trainX,trainY\n",
        "    Stored in testX, testY\n",
        "  \"\"\"\n",
        "###################################################################\n",
        "\n",
        "  global trainX, trainY, testX, testY\n",
        "  trainX,trainY = buildDataSet(AP[\"nItemsTrain\"])\n",
        "  testX, testY  = buildDataSet(AP[\"nItemsTest\"])"
      ],
      "execution_count": null,
      "outputs": []
    },
    {
      "cell_type": "markdown",
      "metadata": {
        "id": "UsWbCANMKA9S"
      },
      "source": [
        "### AddNoise"
      ]
    },
    {
      "cell_type": "code",
      "metadata": {
        "id": "9IoK82_xJ_WC"
      },
      "source": [
        "###################################################################\n",
        "\"\"\"  \n",
        "  AddNoise(trainX,trainY) adds noise to (trainX,trainY)   \n",
        "    Added noise = random in [-noise/2,+noise/2]           \n",
        "    Note the value of Y is computed                       \n",
        "     from the noiseless version of X                      \n",
        "    (Let's not add noise to our test data)                \n",
        "\"\"\"  \n",
        "###################################################################\n",
        "\n",
        "def AddNoiseX(X,noise):\n",
        "  for i in range(len(X)):\n",
        "    for j in range(len(X[i])):\n",
        "      X[i][j] += (random()-0.5) * noise\n",
        "\n",
        "def AddNoiseY(Y,noise):\n",
        "  for i in range(len(Y)):\n",
        "     Y[i] += (random()-0.5) * noise\n",
        "\n",
        "def AddNoise():\n",
        "  AddNoiseX(trainX,AP[\"noise\"])\n",
        "  AddNoiseY(trainY,AP[\"noise\"])"
      ],
      "execution_count": null,
      "outputs": []
    },
    {
      "cell_type": "markdown",
      "metadata": {
        "id": "dHoeeuFfLEfI"
      },
      "source": [
        "### learn"
      ]
    },
    {
      "cell_type": "code",
      "metadata": {
        "id": "4HDX8TYYLF_6"
      },
      "source": [
        "def learn():\n",
        "###################################################################\n",
        "  \"\"\"\n",
        "  Categorical or Regression ie one output\n",
        "    Number of ___ specified by:\n",
        "      AP[\"nLayers\"] = 2 is num of layers in the neural network\n",
        "      AP[\"nHidden\"] = 512 is num of passes through data\n",
        "      AP[\"activation\"] = 'relu' is how each neuron is activated\n",
        "      AP[\"epochs\"]  = 5   is num of passes through data\n",
        "      AP[\"batch\"]   = 128 is num items per hill climbing step\n",
        "  \"\"\"\n",
        "###################################################################\n",
        "  global network\n",
        "  # print(trainX.shape,trainX[3])\n",
        "  # print(trainY.shape,trainY[3])\n",
        "  trainXNorm, trainYNorm = normalize()\n",
        "  testXNorm, testYNorm = normalizeTest()\n",
        "  if AP[\"categorize\"]:\n",
        "    # learned output is a vector of probabilities\n",
        "    trainYCat = to_categorical(trainYNorm)  # turn into vector of probabilities.\n",
        "    testYCat  = to_categorical(testYNorm)\n",
        "  else: \n",
        "   # learned output is simpy y\n",
        "    trainYCat = trainYNorm\n",
        "    testYCat  = testYNorm\n",
        "  \n",
        "  network = models.Sequential()\n",
        "  network.add(layers.Dense(AP[\"nHidden\"], \n",
        "                           activation=AP[\"activation\"], \n",
        "                           input_shape=(AP[\"nDimensions\"],)))\n",
        "  for i in range(AP[\"nLayers\"]-2):  # For default nLayers, nothing happens here\n",
        "    network.add(layers.Dense(AP[\"nHidden\"], activation=AP[\"activation\"]))\n",
        "\n",
        "  if AP[\"categorize\"]:\n",
        "    # softmax and crossentropy are good for \"probabilities\"\n",
        "    network.add(layers.Dense(len(AP[\"categorize\"])+1, activation='softmax'))\n",
        "    network.compile(\n",
        "                    optimizer=AP['optimizer'], \n",
        "                    loss='categorical_crossentropy',\n",
        "                    metrics=['accuracy'])\n",
        "  else: \n",
        "    # we just left top layer activation blank, i.e. simply z = weighted sum \n",
        "    # expect \"accuracy\" to be bad because none of the real answers will be perfect.\n",
        "    # I got optimizer='adam' from googling regression. This was my bug.\n",
        "    network.add(layers.Dense(1))\n",
        "    network.compile(\n",
        "                    optimizer=AP['optimizer'],\n",
        "                    loss='mean_squared_error',\n",
        "                    metrics=['mae'])\n",
        "  \n",
        "  network.fit(trainXNorm,trainYCat, \n",
        "              epochs=AP[\"epochs\"], batch_size=AP[\"batch\"], \n",
        "              verbose=AP['train_verbosity']) \n",
        "  test_loss, test_acc = network.evaluate(testXNorm,testYCat)\n",
        "  return test_loss"
      ],
      "execution_count": null,
      "outputs": []
    },
    {
      "cell_type": "markdown",
      "metadata": {
        "id": "n8cITVjsbyXz"
      },
      "source": [
        "### normalize"
      ]
    },
    {
      "cell_type": "code",
      "metadata": {
        "id": "baDmLHtMXUo0"
      },
      "source": [
        "def normalizeD(data):\n",
        "  data = np.ndarray.copy(data)\n",
        "  mean = data.mean(axis=0)\n",
        "  data -= mean\n",
        "  std = data.std(axis=0)\n",
        "  data /= std\n",
        "  return mean, std, data\n",
        "  \n",
        "def normalize():  \n",
        "  global meanX, stdX, meanY, stdY\n",
        "  if not AP['normalize']: \n",
        "    trainXNorm, trainYNorm = trainX, trainY\n",
        "  else:\n",
        "    meanX, stdX, trainXNorm = normalizeD(trainX)\n",
        "    if not AP[\"categorize\"]:\n",
        "      meanY, stdY, trainYNorm = normalizeD(trainY)\n",
        "    else:\n",
        "      meanY = 0\n",
        "      stdY = 1\n",
        "      trainYNorm = trainY\n",
        "  return trainXNorm, trainYNorm\n",
        "\n",
        "def normalizeTest():\n",
        "  global testX, testY\n",
        "  if not AP['normalize']: \n",
        "    testXNorm, testYNorm = testX, testY\n",
        "  else:\n",
        "    testXNorm = (testX-meanX)/stdX\n",
        "    if not AP[\"categorize\"]:\n",
        "      testYNorm = (testY-meanY)/stdY\n",
        "    else:\n",
        "      testYNorm = testY\n",
        "  return testXNorm, testYNorm\n",
        "\n",
        "def normalizeX(X):\n",
        "  return (X-meanX)/stdX\n",
        "\n",
        "def denormalizeY(Y):\n",
        "  return Y*stdY+meanY\n"
      ],
      "execution_count": null,
      "outputs": []
    },
    {
      "cell_type": "markdown",
      "metadata": {
        "id": "MAJ5iGI-L1KW"
      },
      "source": [
        "### all"
      ]
    },
    {
      "cell_type": "code",
      "metadata": {
        "id": "95ApmTXFL0eU"
      },
      "source": [
        "def all(*APV):\n",
        "###################################################################\n",
        "  \"\"\"\n",
        "  all(APValues) does all for specified value of AP\n",
        "  APV specifies a list of Attempt Parameters to set\n",
        "    eg all([\"function\",\"exp\"],[\"degree\",3])\n",
        "    returns the test_loss\n",
        "  \"\"\"\n",
        "###################################################################\n",
        "\n",
        "  test_loss = all_no_graph(*APV)\n",
        "  graph()\n",
        "  return test_loss"
      ],
      "execution_count": null,
      "outputs": []
    },
    {
      "cell_type": "markdown",
      "metadata": {
        "id": "5gUY1oLkzasH"
      },
      "source": [
        "### all_no_graph"
      ]
    },
    {
      "cell_type": "code",
      "metadata": {
        "id": "chPkXRI7zkCl"
      },
      "source": [
        "def all_no_graph(*APV):\n",
        "###################################################################\n",
        "  \"\"\"\n",
        "  all(APValues) does all for specified value of AP\n",
        "  APV specifies a list of Attempt Parameters to set\n",
        "    eg all([\"function\",\"exp\"],[\"degree\",3])\n",
        "    returns the test_loss\n",
        "  \"\"\"\n",
        "###################################################################\n",
        "\n",
        "  setAP(*APV)\n",
        "  buildDataAll()\n",
        "  AddNoise()\n",
        "  test_loss = learn()  \n",
        "  return test_loss"
      ],
      "execution_count": null,
      "outputs": []
    },
    {
      "cell_type": "markdown",
      "metadata": {
        "id": "a8W9NpOHMvA1"
      },
      "source": [
        "### plotAP"
      ]
    },
    {
      "cell_type": "code",
      "metadata": {
        "id": "4SEWtIy1MuDl"
      },
      "source": [
        "def plotAP(eachGraph:bool,APParameter,APRange,APV=None):\n",
        "###################################################################\n",
        "  \"\"\"\n",
        "  Plotting AP vs test_loss\n",
        "    APParameter: which parameter to vary, eg \"degree\"\n",
        "    APRange: values to try, eg [2,3,5,10]\n",
        "    APV: other parameters to fix to non-default values\n",
        "      ([\"function\",\"exp\"],[\"degree\",3]])\n",
        "  \"\"\"\n",
        "###################################################################\n",
        "  if APV is None:\n",
        "    APV = []\n",
        "\n",
        "  # APRange is our horizontal axis and Test_loss our vertical axis\n",
        "  Test_loss = np.zeros(\n",
        "      len(APRange))\n",
        "  for i in range(len(APRange)):\n",
        "    print(f'Build for {APParameter} = {APRange[i]}')\n",
        "    APNew = APV + [[APParameter, APRange[i]], ]       \n",
        "    test_loss = all_no_graph(*APNew)\n",
        "    Test_loss[i] = test_loss\n",
        "    if eachGraph:\n",
        "      graph(f' - ({APRange[i]})')      \n",
        "  print(APRange, Test_loss)\n",
        "\n",
        "  # Plot test loss against parameter settings\n",
        "  plt.figure(figsize=(6, 6))\n",
        "  plt.plot(APRange, Test_loss)\n",
        "  plt.xlabel(f'{APParameter}', fontsize=15)\n",
        "  plt.ylabel('Test Loss', fontsize=15)\n",
        "  plt.title(f'Different \"{APParameter}\"', fontsize=20)\n",
        "  if not AP['graph_at_end']:\n",
        "    plt.show()\n",
        "    plt.close()"
      ],
      "execution_count": null,
      "outputs": []
    },
    {
      "cell_type": "markdown",
      "metadata": {
        "id": "gQZIVj3O5qTe"
      },
      "source": [
        "## Example Code"
      ]
    },
    {
      "cell_type": "code",
      "metadata": {
        "id": "K96SxhQkOKsR",
        "colab": {
          "base_uri": "https://localhost:8080/"
        },
        "outputId": "43811051-5da5-40bf-ad66-8813d44d6081"
      },
      "source": [
        "setAP()\n",
        "#graph() \n",
        "\n",
        "# setAP([\"graph_x\",randx()])\n",
        "# graph() \n",
        "# setAP([\"categorize\",[25**2,50**2,75**2]])\n",
        "# graph() \n",
        "# setAP([\"function\",\"exp\"])\n",
        "# graph() \n",
        "# setAP([\"function\",\"exp\"],[\"logscale\",True])\n",
        "# graph()\n",
        "\n",
        "X_example,Y_example = buildDataSet(4)\n",
        "print(X_example)\n",
        "print(Y_example)\n",
        "\n",
        "setAP()\n",
        "buildDataAll()\n",
        "print(trainX.shape,trainY.shape)\n",
        "print(testX.shape, testY.shape)\n",
        "\n",
        "X_example = np.array([[30.0,40.0],[50.0,60.0]])\n",
        "Y_example = np.array([30.0,40.0])\n",
        "AddNoiseX(X_example,1)\n",
        "AddNoiseY(Y_example,1)\n",
        "print(X_example)\n",
        "print(Y_example)\n",
        "\n",
        "def hide():\n",
        "  setAP()\n",
        "  graph() \n",
        "  setAP([\"graph_x\",randx()])\n",
        "  graph() \n",
        "  setAP([\"categorize\",[20**2,89**2]])\n",
        "  graph() \n",
        "  setAP([\"function\",\"exp\"])\n",
        "  graph() \n",
        "  setAP([\"function\",\"exp\"],[\"logscale\",True])\n",
        "  graph()\n",
        "\n",
        "setAP()\n",
        "print(\"f = \",f([4,4]))\n",
        "setAP([\"categorize\",[10,20,30]])\n",
        "print(\"f cat = \",f([4,4]))"
      ],
      "execution_count": null,
      "outputs": [
        {
          "output_type": "stream",
          "name": "stdout",
          "text": [
            "[[21.28997165]\n",
            " [68.9972701 ]\n",
            " [59.57824467]\n",
            " [ 4.90864549]]\n",
            "[ 453.26289271 4760.62328192 3549.56723772   24.09480058]\n",
            "(384000, 1) (384000,)\n",
            "(10000, 1) (10000,)\n",
            "[[30.47801477 40.30936782]\n",
            " [49.68441681 60.32321523]]\n",
            "[29.60395573 40.49875088]\n",
            "f =  16\n",
            "f cat =  1\n"
          ]
        }
      ]
    },
    {
      "cell_type": "markdown",
      "metadata": {
        "id": "IP1UzNZU5u-s"
      },
      "source": [
        "# Students to Change\n",
        "Once you feel comfortable, you can change the stuff above too."
      ]
    },
    {
      "cell_type": "markdown",
      "metadata": {
        "id": "AlieSNZCBYN9"
      },
      "source": [
        "## Quick Reference"
      ]
    },
    {
      "cell_type": "code",
      "metadata": {
        "id": "ASwLgLGC2Umu"
      },
      "source": [
        "##########################################################\n",
        "# List of \"Attempt Parameters\" (a global variable)       #\n",
        "##########################################################\n",
        "\n",
        "{       \"nDimensions\":1,      # x = [x0,..,xn]\n",
        "        \"maxX\":100,           # xi in [0..maxX]   \n",
        "        \"categorize\":[],      # [] means the output is one real number\n",
        "                              # [10,20,30] means 4 categories y=\n",
        "                              # 0 if {yy<10}, 1 if {10<=yy<20}, ..., 3 if {30<=yy} \n",
        "        \"nItemsTrain\":384000, # num of training data\n",
        "        \"nItemsTest\": 10000,  # num of testing data\n",
        "        \"function\":\"poly\",    # vs \"exp\"\n",
        "        \"nGraphPoints\":100,   # number points in graph\n",
        "        \"degree\":2,           # x0^degree vs degree^x0\n",
        "        \"graph_r\":0,          # graph wrt xr\n",
        "        \"graph_x\":None,       # graph with other values set as x\n",
        "        \"logscale\":False,     # if True, graph log(y)\n",
        "        \"noise\":0,            # add noise to x and y\n",
        "        \"nLayers\":2,          # num of layers in the neural network\n",
        "        \"nHidden\":512,        # num of nodes in each hidden layer\n",
        "        \"activation\":\"relu\",  # how each neuron is activated\n",
        "        \"epochs\":5,           # number of passes through data\n",
        "        \"batch\":128,          # num items per hill climbing step\n",
        "        \"normalize\":True ,    # If true normalization is done otherwise not done\n",
        "        \"optimizer\":\"rmsprop\",# Optimizer to be used\n",
        "        \"graph_at_end\":False ,# Controls if all graphs only show at end of cell \n",
        "                              # after cell completes execution otherwise they \n",
        "                              # are shown once they are ready\n",
        "        \"train_verbosity\":1,  # 0 - Silent, 1 - Progress bar (see cell below)                              \n",
        "};  \n",
        "\n",
        "###################################################################\n",
        "# setAP(APValues)                                        \n",
        "#    AP are \"Attempt Parameters\" (a global variable)   \n",
        "#    setAP([\"function\",\"student1\"],[\"maxX\",3*math.pi])   \n",
        "# StopWatch('Regression')\n",
        "#    Keeps track of running time\n",
        "# graph(suffix = '',learned=True)\n",
        "#    Graphs given and learned function\n",
        "#    Graph(learned=False) - does not print the learned graph\n",
        "# all(*APV):\n",
        "#    Runs and graphs one example\n",
        "#    all([\"function\",\"student1\"],[\"maxX\",3*math.pi]) \n",
        "#    all([\"categorize\",[20**2, 60**2]]) \n",
        "# plotAP(eachGraph:bool,APParameter,APRange,APV=None)\n",
        "#    Runs an example for a list of attempt partameters\n",
        "#    plotAP(True,\"degree\",[2,3,5,10], [['epochs', 1], ])\n",
        "###################################################################\n",
        "# Runtime/Runall\n",
        "#    Run all the cells starting at the top\n",
        "#    You need to do this when you first load the file\n",
        "# Runtime/Interupt Execution\n",
        "#    You can edit the file as it is running\n",
        "#    You can also get it to stop if it is taking too long\n",
        "# File/Save a copy in Drive  \n",
        "#    make your own copy in googledrive/Colabs Notebooks)\n",
        "# File/Save\n",
        "#    save your own version                  \n",
        "# File/Save an pin revision  \n",
        "#    save versions that are working incase you want to back track\n",
        "###################################################################"
      ],
      "execution_count": null,
      "outputs": []
    },
    {
      "cell_type": "markdown",
      "metadata": {
        "id": "mPMMjLuZ9W0F"
      },
      "source": [
        "## Define custom function"
      ]
    },
    {
      "cell_type": "code",
      "metadata": {
        "id": "eRJm_Y459Q-8"
      },
      "source": [
        "def custom_func(x):\n",
        "  \"\"\"\n",
        "  Example produces a product of all x values\n",
        "  \"\"\"\n",
        "  if AP[\"function\"]==\"student1\":\n",
        "    y = 1\n",
        "    for i in range(AP[\"nDimensions\"]):\n",
        "      y *= math.cos(x[i]) \n",
        "    return y \n",
        "\n",
        "#   if AP[\"function\"]==\"poly\":\n",
        "#     y = 1\n",
        "#     for i in range(AP[\"nDimensions\"]):\n",
        "#       y *= x[i]**AP[\"degree\"] \n",
        "#     return y\n",
        "\n",
        "#   if AP[\"function\"]==\"exp\":\n",
        "#     y = 1\n",
        "#     for i in range(AP[\"nDimensions\"]):\n",
        "#       y *= AP[\"degree\"]**x[i] \n",
        "#     return y\n",
        "\n",
        "#   y = 1\n",
        "#   for i in range(AP[\"nDimensions\"]):\n",
        "#     y *= x[i]\n",
        "#   return y\n"
      ],
      "execution_count": null,
      "outputs": []
    },
    {
      "cell_type": "markdown",
      "metadata": {
        "id": "NizQsW4bCff6"
      },
      "source": [
        "## Regression"
      ]
    },
    {
      "cell_type": "code",
      "metadata": {
        "id": "MyYkd9sKgdXW",
        "colab": {
          "base_uri": "https://localhost:8080/",
          "height": 1000
        },
        "outputId": "0f287c1e-c9e3-4e88-eaed-5f84cbc1ca40"
      },
      "source": [
        "sw = StopWatch('Regression')\n",
        "all([\"function\",\"student1\"],[\"maxX\",3*math.pi])\n",
        "graph(learned=False)\n",
        "# all([\"function\",\"student1\"], ['epochs', 15])\n",
        "# all(['nDimensions',4], ['epochs', 20])\n",
        "all()\n",
        "sw.end()"
      ],
      "execution_count": null,
      "outputs": [
        {
          "output_type": "stream",
          "name": "stdout",
          "text": [
            "Regression stop watch start time: 2021-11-22 19:07:26.615061\n",
            "Epoch 1/5\n",
            "3000/3000 [==============================] - 9s 3ms/step - loss: 0.0297 - mae: 0.0918\n",
            "Epoch 2/5\n",
            "3000/3000 [==============================] - 9s 3ms/step - loss: 0.0093 - mae: 0.0636\n",
            "Epoch 3/5\n",
            "3000/3000 [==============================] - 7s 2ms/step - loss: 0.0091 - mae: 0.0627\n",
            "Epoch 4/5\n",
            "3000/3000 [==============================] - 8s 3ms/step - loss: 0.0088 - mae: 0.0618\n",
            "Epoch 5/5\n",
            "3000/3000 [==============================] - 7s 2ms/step - loss: 0.0086 - mae: 0.0609\n",
            "313/313 [==============================] - 1s 2ms/step - loss: 0.0058 - mae: 0.0484\n"
          ]
        },
        {
          "output_type": "display_data",
          "data": {
            "image/png": "[encoded data removed]",
            "text/plain": [
              "<Figure size 432x432 with 1 Axes>"
            ]
          },
          "metadata": {
            "needs_background": "light"
          }
        },
        {
          "output_type": "display_data",
          "data": {
            "image/png": "[encoded data removed]",
            "text/plain": [
              "<Figure size 432x432 with 1 Axes>"
            ]
          },
          "metadata": {
            "needs_background": "light"
          }
        },
        {
          "output_type": "stream",
          "name": "stdout",
          "text": [
            "Epoch 1/5\n",
            "3000/3000 [==============================] - 8s 3ms/step - loss: 0.0034 - mae: 0.0219\n",
            "Epoch 2/5\n",
            "3000/3000 [==============================] - 7s 2ms/step - loss: 3.4507e-04 - mae: 0.0141\n",
            "Epoch 3/5\n",
            "3000/3000 [==============================] - 7s 2ms/step - loss: 2.8165e-04 - mae: 0.0132\n",
            "Epoch 4/5\n",
            "3000/3000 [==============================] - 7s 2ms/step - loss: 2.3608e-04 - mae: 0.0124\n",
            "Epoch 5/5\n",
            "3000/3000 [==============================] - 7s 2ms/step - loss: 2.0369e-04 - mae: 0.0116\n",
            "313/313 [==============================] - 1s 2ms/step - loss: 5.7796e-05 - mae: 0.0062\n"
          ]
        },
        {
          "output_type": "display_data",
          "data": {
            "image/png": "[encoded data removed]",
            "text/plain": [
              "<Figure size 432x432 with 1 Axes>"
            ]
          },
          "metadata": {
            "needs_background": "light"
          }
        },
        {
          "output_type": "stream",
          "name": "stdout",
          "text": [
            "Regression stop watch runtime was 0:01:30.374527\n"
          ]
        }
      ]
    },
    {
      "cell_type": "markdown",
      "metadata": {
        "id": "zj9QEWNdt_9F"
      },
      "source": [
        "## Classification"
      ]
    },
    {
      "cell_type": "code",
      "metadata": {
        "id": "nHbGr7NOa0-C",
        "colab": {
          "base_uri": "https://localhost:8080/",
          "height": 645
        },
        "outputId": "48ec2a59-3d1d-4588-b044-3d818e6ae9a7"
      },
      "source": [
        "sw = StopWatch('Classification')\n",
        "all([\"categorize\",[20**2, 60**2]])\n",
        "sw.end()"
      ],
      "execution_count": null,
      "outputs": [
        {
          "output_type": "stream",
          "name": "stdout",
          "text": [
            "Classification stop watch start time: 2021-11-22 19:08:57.009253\n",
            "Epoch 1/5\n",
            "3000/3000 [==============================] - 8s 2ms/step - loss: 0.0439 - accuracy: 0.9919\n",
            "Epoch 2/5\n",
            "3000/3000 [==============================] - 7s 2ms/step - loss: 0.0124 - accuracy: 0.9969\n",
            "Epoch 3/5\n",
            "3000/3000 [==============================] - 7s 2ms/step - loss: 0.0095 - accuracy: 0.9974\n",
            "Epoch 4/5\n",
            "3000/3000 [==============================] - 7s 2ms/step - loss: 0.0079 - accuracy: 0.9976\n",
            "Epoch 5/5\n",
            "3000/3000 [==============================] - 7s 2ms/step - loss: 0.0072 - accuracy: 0.9977\n",
            "313/313 [==============================] - 1s 2ms/step - loss: 0.0090 - accuracy: 0.9951\n"
          ]
        },
        {
          "output_type": "display_data",
          "data": {
            "image/png": "[encoded data removed]",
            "text/plain": [
              "<Figure size 432x432 with 1 Axes>"
            ]
          },
          "metadata": {
            "needs_background": "light"
          }
        },
        {
          "output_type": "stream",
          "name": "stdout",
          "text": [
            "Classification stop watch runtime was 0:00:40.240457\n"
          ]
        }
      ]
    },
    {
      "cell_type": "markdown",
      "metadata": {
        "id": "OGAIBM39Mni2"
      },
      "source": [
        "## Plotting AP vs test_loss"
      ]
    },
    {
      "cell_type": "code",
      "metadata": {
        "id": "uHnMg_pkjxaT",
        "colab": {
          "base_uri": "https://localhost:8080/",
          "height": 1000
        },
        "outputId": "4326b4b6-c421-47fd-fd17-cc43e6c92928"
      },
      "source": [
        "sw = StopWatch('Plotting AP vs loss')\n",
        "# plotAP(True,\"degree\",[2,3,5,10], [['epochs', 1], ['nDimensions', 4]])\n",
        "plotAP(True,\"degree\",[2,3,5,10], [['epochs', 1], ])\n",
        "# plotAP(True,\"degree\",[2,3,5,10],)\n",
        "# plotAP(True,\"degree\",[2,3,5,10],[[\"function\",\"exp\"],[\"maxX\",5]])\n",
        "sw.end()"
      ],
      "execution_count": null,
      "outputs": [
        {
          "output_type": "stream",
          "name": "stdout",
          "text": [
            "Plotting AP vs loss stop watch start time: 2021-11-22 19:09:37.263944\n",
            "Build for degree = 2\n",
            "3000/3000 [==============================] - 7s 2ms/step - loss: 0.0029 - mae: 0.0209\n",
            "313/313 [==============================] - 1s 2ms/step - loss: 0.0010 - mae: 0.0254\n"
          ]
        },
        {
          "output_type": "display_data",
          "data": {
            "image/png": "[encoded data removed]",
            "text/plain": [
              "<Figure size 432x432 with 1 Axes>"
            ]
          },
          "metadata": {
            "needs_background": "light"
          }
        },
        {
          "output_type": "stream",
          "name": "stdout",
          "text": [
            "Build for degree = 3\n",
            "3000/3000 [==============================] - 7s 2ms/step - loss: 0.0046 - mae: 0.0245\n",
            "313/313 [==============================] - 1s 1ms/step - loss: 8.8534e-04 - mae: 0.0276\n"
          ]
        },
        {
          "output_type": "display_data",
          "data": {
            "image/png": "[encoded data removed]",
            "text/plain": [
              "<Figure size 432x432 with 1 Axes>"
            ]
          },
          "metadata": {
            "needs_background": "light"
          }
        },
        {
          "output_type": "stream",
          "name": "stdout",
          "text": [
            "Build for degree = 5\n",
            "3000/3000 [==============================] - 7s 2ms/step - loss: 0.0086 - mae: 0.0372\n",
            "313/313 [==============================] - 1s 2ms/step - loss: 0.0012 - mae: 0.0298\n"
          ]
        },
        {
          "output_type": "display_data",
          "data": {
            "image/png": "[encoded data removed]",
            "text/plain": [
              "<Figure size 432x432 with 1 Axes>"
            ]
          },
          "metadata": {
            "needs_background": "light"
          }
        },
        {
          "output_type": "stream",
          "name": "stdout",
          "text": [
            "Build for degree = 10\n",
            "3000/3000 [==============================] - 7s 2ms/step - loss: 0.0185 - mae: 0.0534\n",
            "313/313 [==============================] - 1s 2ms/step - loss: 0.0031 - mae: 0.0486\n"
          ]
        },
        {
          "output_type": "display_data",
          "data": {
            "image/png": "[encoded data removed]",
            "text/plain": [
              "<Figure size 432x432 with 1 Axes>"
            ]
          },
          "metadata": {
            "needs_background": "light"
          }
        },
        {
          "output_type": "stream",
          "name": "stdout",
          "text": [
            "[2, 3, 5, 10] [0.00101972 0.00088534 0.00123316 0.00312088]\n"
          ]
        },
        {
          "output_type": "display_data",
          "data": {
            "image/png": "[encoded data removed]",
            "text/plain": [
              "<Figure size 432x432 with 1 Axes>"
            ]
          },
          "metadata": {
            "needs_background": "light"
          }
        },
        {
          "output_type": "stream",
          "name": "stdout",
          "text": [
            "Plotting AP vs loss stop watch runtime was 0:00:43.791182\n"
          ]
        }
      ]
    }
  ]
}